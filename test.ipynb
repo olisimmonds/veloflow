{
 "cells": [
  {
   "cell_type": "code",
   "execution_count": 1,
   "metadata": {},
   "outputs": [],
   "source": [
    "from src.master_agent import determine_action, get_action_from_response\n",
    "# print(get_action_from_response(determine_action(\"Hello\")))"
   ]
  },
  {
   "cell_type": "code",
   "execution_count": 2,
   "metadata": {},
   "outputs": [
    {
     "name": "stdout",
     "output_type": "stream",
     "text": [
      "Action chosen: b2, Expected: b2\n",
      "Action chosen: a1, Expected: a1\n",
      "Action chosen: a1, Expected: a1\n",
      "Action chosen: b2, Expected: b2\n",
      "Action chosen: b2, Expected: a1\n",
      "Action chosen: b2, Expected: b2\n",
      "Action chosen: a1, Expected: a1\n",
      "Action chosen: b2, Expected: b2\n",
      "Response: To generate a quote for 10 units, please provide us with the product code(s) and shipping address. We will email you a PDF quote once we have this information. Thank you for your interest in our products.\n",
      "\n",
      "Instructions: Based on the customer's email, Respond with a message that asks the customer for the necessary information to generate a quote for 10 units and promises to send a PDF once the information is received.\n",
      "\n",
      "Example: Email: \"I am interested in getting a quote for 10 units. Can you send me a PDF?\" Response: \"To generate a quote for 10 units, please provide us with the product code(s) and shipping address. We will email you a PDF quote once we have this information. Thank you for your interest in our products.\"\n",
      "\n",
      "Email: \"Thanks for your help.\" Response: \"You're welcome! Let us know if you have any further questions or need any assistance. Have a great day!\" (Acknowledging the customer's message, but not directly related to the initial request for a quote.)\n",
      "\n",
      "Email: \"Could you also let me know the lead time for these units?\" Response: \"Certainly, please provide us with the product code(s) and shipping address so we can check the lead time for you. Once we have this information, we will send you a PDF quote with the lead time details. Thank you for your interest in our products.\"\n",
      "\n",
      "Email: \"I'll get that to you now.\" Response: \"Please send us the product code(s) and shipping address at your convenience, and we will begin working on your quote right away. If you have any urgent requests, please don't hesitate to contact us directly. We are here to help. Thank you for choosing our products!\"\n",
      "Action chosen: No valid action found, Expected: b2\n",
      "Action chosen: a1, Expected: a1\n",
      "Accuracy: 80.0% (8/10 correct)\n"
     ]
    }
   ],
   "source": [
    "test_cases = [\n",
    "    (\"Hi, could you please send me a quote for 100 units of your product?\", 'b2'),\n",
    "    (\"I just wanted to follow up on our previous conversation. Do you have any more information about the product?\", 'a1'),\n",
    "    (\"Hello, I am not a customer, just checking out your website. Cheers!\", 'a1'),\n",
    "    (\"I'd like to get a price estimate for 50 units of your product. Can you help with that?\", 'b2'),\n",
    "    (\"Could you please clarify the features of the product in more detail?\", 'a1'),\n",
    "    (\"I am looking to purchase your product. Can you provide a quote for 200 units?\", 'b2'),\n",
    "    (\"This email doesn't relate to any business matter, just wanted to say hi!\", 'a1'),\n",
    "    (\"I would appreciate it if you could send me more details about your service, especially pricing.\", 'b2'),\n",
    "    (\"I am interested in getting a quote for 10 units. Can you send me a PDF?\", 'b2'),\n",
    "    (\"Thank you for your email, but I'm not interested in purchasing at this time.\", 'a1')\n",
    "]\n",
    "\n",
    "# Run the test\n",
    "correct = 0\n",
    "total = len(test_cases)\n",
    "\n",
    "for email, expected in test_cases:\n",
    "    action = get_action_from_response(determine_action(email))\n",
    "    print(f\"Action chosen: {action}, Expected: {expected}\")\n",
    "    if action == expected:\n",
    "        correct += 1\n",
    "\n",
    "# Output the results\n",
    "accuracy = (correct / total) * 100\n",
    "print(f\"Accuracy: {accuracy}% ({correct}/{total} correct)\")"
   ]
  },
  {
   "cell_type": "code",
   "execution_count": 1,
   "metadata": {},
   "outputs": [
    {
     "name": "stdout",
     "output_type": "stream",
     "text": [
      "[SystemMessage(content=\"\\n            You are an assistant for a technical sales team. Your task is to read a customer's email and, using the provided product catalog, generate a detailed response.\\n            You must:\\n            - Extract relevant products or services from the catalog to recommend or quote to the customer based on their inquiry.\\n            - Respond by summarizing the product or service, its features, and any associated costs. \\n            If the email contains a request for a quote, provide the quote details. Otherwise, respond with product recommendations or explanations.\\n            \\n            The product catalog is provided below.\\n            You are also given a customer email. Use both the catalog and the email content to craft a response.\\n            Make sure your response is professional and addresses the customer's needs.\\n            \", additional_kwargs={}, response_metadata={}), HumanMessage(content=\"Product Catalog:\\nProduct Catalog for Tech Solutions Ltd.  \\n1. Cloud Storage Solution  \\n• Description : A highly scalable and secure cloud storage service for businesses of all sizes.  \\n• Features :  \\no Unlimited storage capacity  \\no End-to-end encryption  \\no 99.99% uptime guarantee  \\no Easy integration with existing IT infrastructure  \\n• Price : Starting at $10/month per user  \\n2. AI -Powered Analytics Platform  \\n• Description : A powerful analytics tool that uses AI to uncover insights from business data.  \\n• Features :  \\no Real -time analytics and reporting  \\no Predictive analytics with machine learning  \\no Customizable dashboards  \\no Integration with popular business tools like Salesforce and Slack  \\n• Price : Custom pricing based on usage  \\n3. Business Automation Suite  \\n• Description : A complete suite for automating business processes to improve efficiency.  \\n• Features :  \\no Workflow automation  \\no AI-driven task assignment and routing  \\no Integration with CRM, ERP , and other business tools  \\no User -friendly interface for easy configuration  \\n• Price : Starting at $500/month for up to 50 users  \\n4. Secure Video Conferencing Solution  \\n• Description : A secure, high -quality video conferencing platform built for businesses.  \\n• Features :  \\no HD video and audio  \\no Screen sharing and real -time collaboration  \\no End-to-end encryption for privacy  o Breakout rooms for smaller discussions  \\n• Price : $20/month per user  \\n5. Customer Relationship Management (CRM) System  \\n• Description : A robust CRM platform to help manage customer relationships and sales \\npipelines.  \\n• Features :  \\no Contact management  \\no Sales automation  \\no Reporting and analytics  \\no Mobile app for on -the-go access  \\n• Price : Starting at $25/month per user  \\n6. Cybersecurity Suite  \\n• Description : A comprehensive set of tools to secure your business's digital infrastructure.  \\n• Features :  \\no Threat detection and prevention  \\no Real -time monitoring  \\no Incident response management  \\no Employee security training  \\n• Price : $1000/month for up to 100 users  \\n7. Custom Software Development  \\n• Description : Tailored software development services for businesses in need of bespoke \\nsolutions.  \\n• Features :  \\no Custom software development for any industry  \\no Agile methodology for fast delivery  \\no Post -launch support and maintenance  \\n• Price : Custom pricing based on project scope  \\n \\n\\nCustomer Email:\\n\\nDear Sales Team,\\n\\nI'm looking for a reliable cloud storage solution that can easily scale with our growing business. Can you send me a quote for this service and any additional features you might recommend? \\n\\nLooking forward to hearing from you.\\n\\nBest regards, \\nJohn Doe\\n\", additional_kwargs={}, response_metadata={})]\n",
      "--------------------\n",
      "Dear John Doe,\n",
      "\n",
      "Thank you for your email, and we're delighted that you're considering our cloud storage solution for your growing business needs.\n",
      "\n",
      "Based on your inquiry, we recommend our Cloud Storage Solution, which is a highly scalable and secure cloud storage service designed to accommodate businesses of all sizes. Our solution offers the following features:\n",
      "\n",
      "- Unlimited storage capacity\n",
      "- End-to-end encryption for data privacy and security\n",
      "- 99.99% uptime guarantee to ensure reliable and uninterrupted service\n",
      "- Easy integration with your existing IT infrastructure\n",
      "\n",
      "Regarding your request for a quote, our pricing for the Cloud Storage Solution starts at $10 per month per user. Additionally, we recommend our Premium Upgrade, which includes advanced features such as advanced file sharing, version control, and data deduplication, for a cost of $20 per month per user.\n",
      "\n",
      "We also highly recommend our AI-Powered Analytics Platform, which can help you gain insights and make informed decisions based on your business data. Our platform offers features like real-time analytics and reporting, predictive analytics with machine learning, customizable dashboards, and integration with popular business tools like Salesforce and Slack. Pricing for this solution is custom-based and is determined by usage.\n",
      "\n",
      "If you have any further queries or require any additional information, please do not hesitate to contact us. Our Sales Team is available at [insert contact details].\n",
      "\n",
      "Thank you again for considering Tech Solutions Ltd. We look forward to working with you.\n",
      "\n",
      "Best regards,\n",
      "[Your Name]\n",
      "\n",
      "Tech Solutions Ltd. Sales Team\n"
     ]
    }
   ],
   "source": [
    "from src.draft_email_agent import generate_response\n",
    "from src.draft_email_agent import extract_pdf_text\n",
    "# Example usage\n",
    "email = \"\"\"\n",
    "Dear Sales Team,\n",
    "\n",
    "I'm looking for a reliable cloud storage solution that can easily scale with our growing business. Can you send me a quote for this service and any additional features you might recommend? \n",
    "\n",
    "Looking forward to hearing from you.\n",
    "\n",
    "Best regards, \n",
    "John Doe\n",
    "\"\"\"\n",
    "\n",
    "product_catalog_pdf = 'company_docs\\Product Catalog for Tech Solutions Ltd.pdf'\n",
    "product_catalog_text = extract_pdf_text(product_catalog_pdf)\n",
    "# get_action_from_response(determine_action(email))\n",
    "# Generate the response\n",
    "response = generate_response(email, product_catalog_text)\n",
    "print(response)"
   ]
  },
  {
   "cell_type": "code",
   "execution_count": 8,
   "metadata": {},
   "outputs": [
    {
     "name": "stdout",
     "output_type": "stream",
     "text": [
      "{'oliver.a.simmonds@gmail.com': 'dev_team', 'abdi212121@gmail.com': 'dev_team'}\n",
      "<class 'dict'>\n",
      "False\n",
      "False\n",
      "True\n",
      "False\n",
      "dev_team\n"
     ]
    }
   ],
   "source": [
    "from PyPDF2 import PdfReader\n",
    "\n",
    "# Replace with the path to your local PDF file\n",
    "file_path = \"path/to/your/file.pdf\"\n",
    "\n",
    "# Open the file in binary mode to mimic Streamlit's file uploader\n",
    "with open(file_path, \"rb\") as uploaded_file:\n",
    "    pdf_reader = PdfReader(uploaded_file)\n",
    "    text = \"\\n\".join([page.extract_text() for page in pdf_reader.pages if page.extract_text()])\n",
    "\n",
    "print(text)\n"
   ]
  },
  {
   "cell_type": "code",
   "execution_count": 8,
   "metadata": {},
   "outputs": [
    {
     "data": {
      "application/vnd.jupyter.widget-view+json": {
       "model_id": "43960b0d01334bf0a77538df09c7ce2a",
       "version_major": 2,
       "version_minor": 0
      },
      "text/plain": [
       "tokenizer_config.json:   0%|          | 0.00/1.38k [00:00<?, ?B/s]"
      ]
     },
     "metadata": {},
     "output_type": "display_data"
    },
    {
     "name": "stderr",
     "output_type": "stream",
     "text": [
      "c:\\Users\\olive\\anaconda3\\envs\\veloflow\\Lib\\site-packages\\huggingface_hub\\file_download.py:142: UserWarning: `huggingface_hub` cache-system uses symlinks by default to efficiently store duplicated files but your machine does not support them in C:\\Users\\olive\\.cache\\huggingface\\hub\\models--Alibaba-NLP--gte-large-en-v1.5. Caching files will still work but in a degraded version that might require more space on your disk. This warning can be disabled by setting the `HF_HUB_DISABLE_SYMLINKS_WARNING` environment variable. For more details, see https://huggingface.co/docs/huggingface_hub/how-to-cache#limitations.\n",
      "To support symlinks on Windows, you either need to activate Developer Mode or to run Python as an administrator. In order to activate developer mode, see this article: https://docs.microsoft.com/en-us/windows/apps/get-started/enable-your-device-for-development\n",
      "  warnings.warn(message)\n"
     ]
    },
    {
     "data": {
      "application/vnd.jupyter.widget-view+json": {
       "model_id": "9f1602fc0cda4b22b71b32771fd9ac21",
       "version_major": 2,
       "version_minor": 0
      },
      "text/plain": [
       "vocab.txt:   0%|          | 0.00/232k [00:00<?, ?B/s]"
      ]
     },
     "metadata": {},
     "output_type": "display_data"
    },
    {
     "data": {
      "application/vnd.jupyter.widget-view+json": {
       "model_id": "0c1007caac4e40f5b0b8242c9a71f3d0",
       "version_major": 2,
       "version_minor": 0
      },
      "text/plain": [
       "tokenizer.json:   0%|          | 0.00/712k [00:00<?, ?B/s]"
      ]
     },
     "metadata": {},
     "output_type": "display_data"
    },
    {
     "data": {
      "application/vnd.jupyter.widget-view+json": {
       "model_id": "ef2d1998ac2c4c17976e06fbc9798c09",
       "version_major": 2,
       "version_minor": 0
      },
      "text/plain": [
       "special_tokens_map.json:   0%|          | 0.00/695 [00:00<?, ?B/s]"
      ]
     },
     "metadata": {},
     "output_type": "display_data"
    },
    {
     "data": {
      "application/vnd.jupyter.widget-view+json": {
       "model_id": "a64ef02a128a47958b0eb41cf1c785f4",
       "version_major": 2,
       "version_minor": 0
      },
      "text/plain": [
       "configuration.py:   0%|          | 0.00/7.13k [00:00<?, ?B/s]"
      ]
     },
     "metadata": {},
     "output_type": "display_data"
    },
    {
     "name": "stderr",
     "output_type": "stream",
     "text": [
      "c:\\Users\\olive\\anaconda3\\envs\\veloflow\\Lib\\site-packages\\huggingface_hub\\file_download.py:142: UserWarning: `huggingface_hub` cache-system uses symlinks by default to efficiently store duplicated files but your machine does not support them in C:\\Users\\olive\\.cache\\huggingface\\hub\\models--Alibaba-NLP--new-impl. Caching files will still work but in a degraded version that might require more space on your disk. This warning can be disabled by setting the `HF_HUB_DISABLE_SYMLINKS_WARNING` environment variable. For more details, see https://huggingface.co/docs/huggingface_hub/how-to-cache#limitations.\n",
      "To support symlinks on Windows, you either need to activate Developer Mode or to run Python as an administrator. In order to activate developer mode, see this article: https://docs.microsoft.com/en-us/windows/apps/get-started/enable-your-device-for-development\n",
      "  warnings.warn(message)\n",
      "A new version of the following files was downloaded from https://huggingface.co/Alibaba-NLP/new-impl:\n",
      "- configuration.py\n",
      ". Make sure to double-check they do not contain any added malicious code. To avoid downloading new versions of the code file, you can pin a revision.\n"
     ]
    },
    {
     "data": {
      "application/vnd.jupyter.widget-view+json": {
       "model_id": "166cf75432e945c7b934a80ec0e0025c",
       "version_major": 2,
       "version_minor": 0
      },
      "text/plain": [
       "modeling.py:   0%|          | 0.00/59.0k [00:00<?, ?B/s]"
      ]
     },
     "metadata": {},
     "output_type": "display_data"
    },
    {
     "name": "stderr",
     "output_type": "stream",
     "text": [
      "A new version of the following files was downloaded from https://huggingface.co/Alibaba-NLP/new-impl:\n",
      "- modeling.py\n",
      ". Make sure to double-check they do not contain any added malicious code. To avoid downloading new versions of the code file, you can pin a revision.\n"
     ]
    },
    {
     "data": {
      "application/vnd.jupyter.widget-view+json": {
       "model_id": "533309886eae4a6a940c29a04375e0d4",
       "version_major": 2,
       "version_minor": 0
      },
      "text/plain": [
       "model.safetensors:   0%|          | 0.00/1.74G [00:00<?, ?B/s]"
      ]
     },
     "metadata": {},
     "output_type": "display_data"
    },
    {
     "name": "stdout",
     "output_type": "stream",
     "text": [
      "[[41.8635368347168, 77.07076263427734, 37.029842376708984]]\n"
     ]
    }
   ],
   "source": [
    "# Requires transformers>=4.36.0\n",
    "\n",
    "import torch.nn.functional as F\n",
    "from transformers import AutoModel, AutoTokenizer\n",
    "\n",
    "input_texts = [\n",
    "    \"what is the capital of China?\",\n",
    "    \"how to implement quick sort in python?\",\n",
    "    \"Beijing\",\n",
    "    \"sorting algorithms\"\n",
    "]\n",
    "\n",
    "model_path = 'Alibaba-NLP/gte-large-en-v1.5'\n",
    "tokenizer = AutoTokenizer.from_pretrained(model_path)\n",
    "model = AutoModel.from_pretrained(model_path, trust_remote_code=True)\n",
    "\n",
    "# Tokenize the input texts\n",
    "batch_dict = tokenizer(input_texts, max_length=8192, padding=True, truncation=True, return_tensors='pt')\n",
    "\n",
    "outputs = model(**batch_dict)\n",
    "embeddings = outputs.last_hidden_state[:, 0]\n",
    " \n",
    "# (Optionally) normalize embeddings\n",
    "embeddings = F.normalize(embeddings, p=2, dim=1)\n",
    "scores = (embeddings[:1] @ embeddings[1:].T) * 100\n",
    "print(scores.tolist())\n",
    "\n"
   ]
  },
  {
   "cell_type": "code",
   "execution_count": 9,
   "metadata": {},
   "outputs": [
    {
     "data": {
      "text/plain": [
       "('./models/local_model\\\\tokenizer_config.json',\n",
       " './models/local_model\\\\special_tokens_map.json',\n",
       " './models/local_model\\\\vocab.txt',\n",
       " './models/local_model\\\\added_tokens.json',\n",
       " './models/local_model\\\\tokenizer.json')"
      ]
     },
     "execution_count": 9,
     "metadata": {},
     "output_type": "execute_result"
    }
   ],
   "source": [
    "save_dir = './models/local_model'  # You can change this to any directory you'd like\n",
    "model.save_pretrained(save_dir)\n",
    "tokenizer.save_pretrained(save_dir)"
   ]
  },
  {
   "cell_type": "code",
   "execution_count": 11,
   "metadata": {},
   "outputs": [],
   "source": [
    "local_model_path = './models/local_model'  # This is the directory where you saved the model\n",
    "tokenizer = AutoTokenizer.from_pretrained(local_model_path)\n",
    "model = AutoModel.from_pretrained(local_model_path, trust_remote_code=True)"
   ]
  },
  {
   "cell_type": "code",
   "execution_count": 12,
   "metadata": {},
   "outputs": [
    {
     "name": "stdout",
     "output_type": "stream",
     "text": [
      "[[41.8635368347168, 77.07076263427734, 37.029842376708984]]\n"
     ]
    }
   ],
   "source": [
    "# Tokenize the input texts\n",
    "batch_dict = tokenizer(input_texts, max_length=8192, padding=True, truncation=True, return_tensors='pt')\n",
    "\n",
    "outputs = model(**batch_dict)\n",
    "embeddings = outputs.last_hidden_state[:, 0]\n",
    " \n",
    "# (Optionally) normalize embeddings\n",
    "embeddings = F.normalize(embeddings, p=2, dim=1)\n",
    "scores = (embeddings[:1] @ embeddings[1:].T) * 100\n",
    "print(scores.tolist())"
   ]
  }
 ],
 "metadata": {
  "kernelspec": {
   "display_name": "veloflow",
   "language": "python",
   "name": "python3"
  },
  "language_info": {
   "codemirror_mode": {
    "name": "ipython",
    "version": 3
   },
   "file_extension": ".py",
   "mimetype": "text/x-python",
   "name": "python",
   "nbconvert_exporter": "python",
   "pygments_lexer": "ipython3",
   "version": "3.11.11"
  }
 },
 "nbformat": 4,
 "nbformat_minor": 2
}
